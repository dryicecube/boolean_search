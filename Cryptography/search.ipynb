{
 "cells": [
  {
   "cell_type": "code",
   "execution_count": 1,
   "metadata": {},
   "outputs": [
    {
     "name": "stdout",
     "output_type": "stream",
     "text": [
      "-1\n",
      "1\n"
     ]
    }
   ],
   "source": [
    "r=[-1,1]\n",
    "for i in r:\n",
    "    print (i)\n",
    "Hmin=[]"
   ]
  },
  {
   "cell_type": "code",
   "execution_count": 2,
   "metadata": {},
   "outputs": [
    {
     "name": "stdout",
     "output_type": "stream",
     "text": [
      "Individual Bits are: -1 , -1 , -1 , 1 , 1 , 1 , 1 , -1\n",
      "W1 -2 w2 -2 w3 -2 w4 2\n",
      "Individual Bits are: -1 , -1 , 1 , -1 , 1 , -1 , 1 , 1\n",
      "W1 -2 w2 2 w3 -2 w4 -2\n",
      "Individual Bits are: -1 , 1 , -1 , -1 , 1 , 1 , -1 , 1\n",
      "W1 -2 w2 -2 w3 2 w4 -2\n",
      "Individual Bits are: -1 , 1 , 1 , 1 , -1 , 1 , 1 , 1\n",
      "W1 2 w2 -2 w3 -2 w4 -2\n",
      "Individual Bits are: 1 , -1 , -1 , -1 , 1 , -1 , -1 , -1\n",
      "W1 -2 w2 2 w3 2 w4 2\n",
      "Individual Bits are: 1 , -1 , 1 , 1 , -1 , -1 , 1 , -1\n",
      "W1 2 w2 2 w3 -2 w4 2\n",
      "Individual Bits are: 1 , 1 , -1 , 1 , -1 , 1 , -1 , -1\n",
      "W1 2 w2 -2 w3 2 w4 2\n",
      "Individual Bits are: 1 , 1 , 1 , -1 , -1 , -1 , -1 , 1\n",
      "W1 2 w2 2 w3 2 w4 -2\n"
     ]
    }
   ],
   "source": [
    "for s1 in r:\n",
    "    for s2 in r:\n",
    "        for s3 in r:\n",
    "            for s4 in r:\n",
    "                for s5 in r:\n",
    "                    for s6 in r:\n",
    "                        for s7 in r:\n",
    "                            for s8 in r:\n",
    "                                H = s5*(s1+s2+s3+s4)+s6*(s1-s2+s3-s4)+s7*(s1+s2-s3-s4)+s8*(s1-s2-s3+s4)\n",
    "                                #print(H)\n",
    "                                Hmin.append(H)\n",
    "                                if H == -8:\n",
    "                                    print('Individual Bits are:', s1,',',s2,',',s3,',',s4,',',s5,',',s6,',',s7,',',s8)\n",
    "                                    print('W1',s1+s2+s3+s4, 'w2',s1-s2+s3-s4,'w3',s1+s2-s3-s4,'w4',s1-s2-s3+s4)\n"
   ]
  },
  {
   "cell_type": "code",
   "execution_count": 3,
   "metadata": {},
   "outputs": [
    {
     "name": "stdout",
     "output_type": "stream",
     "text": [
      "-8\n"
     ]
    }
   ],
   "source": [
    "print(min(Hmin))"
   ]
  }
 ],
 "metadata": {
  "kernelspec": {
   "display_name": "Python 3.6.9 64-bit",
   "language": "python",
   "name": "python3"
  },
  "language_info": {
   "codemirror_mode": {
    "name": "ipython",
    "version": 3
   },
   "file_extension": ".py",
   "mimetype": "text/x-python",
   "name": "python",
   "nbconvert_exporter": "python",
   "pygments_lexer": "ipython3",
   "version": "3.6.9"
  },
  "orig_nbformat": 4,
  "vscode": {
   "interpreter": {
    "hash": "31f2aee4e71d21fbe5cf8b01ff0e069b9275f58929596ceb00d14d90e3e16cd6"
   }
  }
 },
 "nbformat": 4,
 "nbformat_minor": 2
}
